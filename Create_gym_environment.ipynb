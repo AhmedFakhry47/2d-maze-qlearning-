{
  "nbformat": 4,
  "nbformat_minor": 0,
  "metadata": {
    "colab": {
      "provenance": []
    },
    "kernelspec": {
      "name": "python3",
      "display_name": "Python 3"
    },
    "language_info": {
      "name": "python"
    }
  },
  "cells": [
    {
      "cell_type": "code",
      "source": [
        "import gym\n",
        "import numpy as np\n",
        "import pickle\n",
        "\n",
        "# Define the maze environment\n",
        "class MazeEnv(gym.Env):\n",
        "    metadata = {'render.modes': ['human']}\n",
        "    \n",
        "    def __init__(self,maze):\n",
        "        self.maze = maze\n",
        "        self.start = (0, 0)\n",
        "        self.goal = (4, 4)\n",
        "        \n",
        "    def step(self, action):\n",
        "        i, j = self.state\n",
        "        if action == 0: # move up\n",
        "            next_state = (max(i - 1, 0), j)\n",
        "        elif action == 1: # move down\n",
        "            next_state = (min(i + 1, self.maze.shape[0] - 1), j)\n",
        "        elif action == 2: # move left\n",
        "            next_state = (i, max(j - 1, 0))\n",
        "        elif action == 3: # move right\n",
        "            next_state = (i, min(j + 1, self.maze.shape[1] - 1))\n",
        "        \n",
        "        reward = 0\n",
        "        done = False\n",
        "        \n",
        "        if self.maze[next_state] == 1:\n",
        "            next_state = self.state\n",
        "            reward = -1\n",
        "        elif next_state == self.goal:\n",
        "            reward = 1\n",
        "            done = True\n",
        "        \n",
        "        self.state = next_state\n",
        "        return next_state, reward, done, {}\n",
        "    \n",
        "    def reset(self):\n",
        "        self.state = self.start\n",
        "        return self.state\n",
        "    \n",
        "    def render(self, mode='human'):\n",
        "        pass"
      ],
      "metadata": {
        "id": "dNRiFzT8Nyfh"
      },
      "execution_count": 62,
      "outputs": []
    },
    {
      "cell_type": "code",
      "source": [
        "# Define the Q-learning algorithm\n",
        "class QLearning:\n",
        "    def __init__(self, env, alpha=0.1, gamma=0.9, epsilon=0.1, epochs=1000, episodes=50):\n",
        "      self.env = env\n",
        "      self.alpha = alpha\n",
        "      self.gamma = gamma\n",
        "      self.epsilon = epsilon\n",
        "      self.epochs = epochs\n",
        "      self.episodes = episodes\n",
        "      self.q_table = {}\n",
        "      for i in range(env.maze.shape[0]):\n",
        "          for j in range(env.maze.shape[1]):\n",
        "              self.q_table[(i, j)] = [0] * 4\n",
        "              \n",
        "    def train(self):\n",
        "        for e in range(self.epochs):\n",
        "            for episode in range(self.episodes):\n",
        "                state = self.env.reset()\n",
        "                done = False\n",
        "                while not done:\n",
        "                    if np.random.uniform(0, 1) < self.epsilon:\n",
        "                        action = np.random.choice(range(4))\n",
        "                    else:\n",
        "                        action = np.argmax(self.q_table[state])\n",
        "                    next_state, reward, done, _ = self.env.step(action)\n",
        "                    old_q = self.q_table[state][action]\n",
        "                    next_q = np.max(self.q_table[next_state])\n",
        "                    new_q = old_q + self.alpha * (reward + self.gamma * next_q - old_q)\n",
        "                    self.q_table[state][action] = new_q\n",
        "                    state = next_state\n",
        "                    \n",
        "    def test(self):\n",
        "        state = self.env.reset()\n",
        "        done = False\n",
        "        while not done:\n",
        "            action = np.argmax(self.q_table[state])\n",
        "            next_state, _, done, _ = self.env.step(action)\n",
        "            print(next_state)\n",
        "            state = next_state\n",
        "    \n",
        "# Create the environment and the Q-learning agent\n",
        "env = MazeEnv(maze=np.load('/content/sample_maze.npy'))\n",
        "agent = QLearning(env)"
      ],
      "metadata": {
        "id": "rS3Ddn9t7KzG"
      },
      "execution_count": 63,
      "outputs": []
    },
    {
      "cell_type": "code",
      "source": [
        "# Train the Q-learning agent\n",
        "agent.train()\n",
        "\n",
        "# Test the Q-learning agent\n",
        "agent.test()"
      ],
      "metadata": {
        "colab": {
          "base_uri": "https://localhost:8080/"
        },
        "id": "kekq5ggqOHmM",
        "outputId": "082c7d0d-2d02-4681-92e8-3e0103f64dd6"
      },
      "execution_count": 64,
      "outputs": [
        {
          "output_type": "stream",
          "name": "stdout",
          "text": [
            "(0, 1)\n",
            "(0, 2)\n",
            "(1, 2)\n",
            "(2, 2)\n",
            "(2, 3)\n",
            "(2, 4)\n",
            "(3, 4)\n",
            "(4, 4)\n"
          ]
        }
      ]
    },
    {
      "cell_type": "code",
      "source": [
        "f = open('saved_model', 'wb')\n",
        "\n",
        "# dump information to that file\n",
        "\n",
        "pickle.dump(agent, f)\n",
        "\n",
        "# close the file\n",
        "f.close()"
      ],
      "metadata": {
        "id": "0DkxXvbROZWs"
      },
      "execution_count": 66,
      "outputs": []
    },
    {
      "cell_type": "code",
      "source": [],
      "metadata": {
        "id": "WSsJg0TIUUvT"
      },
      "execution_count": null,
      "outputs": []
    }
  ]
}